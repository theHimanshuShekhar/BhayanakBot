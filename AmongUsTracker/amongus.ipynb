{
 "metadata": {
  "language_info": {
   "codemirror_mode": {
    "name": "ipython",
    "version": 3
   },
   "file_extension": ".py",
   "mimetype": "text/x-python",
   "name": "python",
   "nbconvert_exporter": "python",
   "pygments_lexer": "ipython3",
   "version": "3.8.2-final"
  },
  "orig_nbformat": 2,
  "kernelspec": {
   "name": "python_defaultSpec_1600602735972",
   "display_name": "Python 3.8.2 64-bit"
  }
 },
 "nbformat": 4,
 "nbformat_minor": 2,
 "cells": [
  {
   "source": [
    "Importing dependencies"
   ],
   "cell_type": "markdown",
   "metadata": {}
  },
  {
   "cell_type": "code",
   "execution_count": 1,
   "metadata": {
    "tags": []
   },
   "outputs": [
    {
     "output_type": "stream",
     "name": "stdout",
     "text": "Requirement already satisfied: pytesseract in c:\\python38\\lib\\site-packages (from -r requirements.txt (line 1)) (0.3.6)\nRequirement already satisfied: Pillow in c:\\python38\\lib\\site-packages (from -r requirements.txt (line 2)) (7.2.0)\nRequirement already satisfied: Requests in c:\\python38\\lib\\site-packages (from -r requirements.txt (line 3)) (2.24.0)\nRequirement already satisfied: mss in c:\\python38\\lib\\site-packages (from -r requirements.txt (line 4)) (6.0.0)\nRequirement already satisfied: opencv-python in c:\\python38\\lib\\site-packages (from -r requirements.txt (line 5)) (4.4.0.42)\nRequirement already satisfied: discord-webhook in c:\\python38\\lib\\site-packages (from -r requirements.txt (line 6)) (0.9.0)\nRequirement already satisfied: chardet<4,>=3.0.2 in c:\\python38\\lib\\site-packages (from Requests->-r requirements.txt (line 3)) (3.0.4)\nRequirement already satisfied: urllib3!=1.25.0,!=1.25.1,<1.26,>=1.21.1 in c:\\python38\\lib\\site-packages (from Requests->-r requirements.txt (line 3)) (1.25.9)\nRequirement already satisfied: certifi>=2017.4.17 in c:\\python38\\lib\\site-packages (from Requests->-r requirements.txt (line 3)) (2020.6.20)\nRequirement already satisfied: idna<3,>=2.5 in c:\\python38\\lib\\site-packages (from Requests->-r requirements.txt (line 3)) (2.10)\nRequirement already satisfied: numpy>=1.17.3 in c:\\python38\\lib\\site-packages (from opencv-python->-r requirements.txt (line 5)) (1.19.2)\n"
    }
   ],
   "source": [
    "!pip install -r requirements.txt "
   ]
  },
  {
   "cell_type": "code",
   "execution_count": 2,
   "metadata": {},
   "outputs": [],
   "source": [
    "import cv2\n",
    "import numpy as np\n",
    "import pytesseract\n",
    "import requests\n",
    "from PIL import Image\n",
    "import os\n",
    "import time\n",
    "from discord_webhook import DiscordWebhook\n",
    "import json\n",
    "from mss import mss\n",
    "from config import *"
   ]
  },
  {
   "source": [
    "Processing screens with Tesseract"
   ],
   "cell_type": "markdown",
   "metadata": {}
  },
  {
   "cell_type": "code",
   "execution_count": 3,
   "metadata": {
    "tags": []
   },
   "outputs": [],
   "source": [
    "last_cmd = None\n",
    "def toggleMute(operation, msg):\n",
    "    global last_cmd\n",
    "    if last_cmd != operation:\n",
    "        webhook = DiscordWebhook(url=webhookURL,content=\">>au {} {}\".format(operation, channelID))\n",
    "        response = webhook.execute()\n",
    "        updateDiscord(msg)\n",
    "        print(msg)\n",
    "        if(response.status_code == 204):\n",
    "            last_cmd = operation\n",
    "            if(msg.split()[0] == \"VICTORY\" or msg.split()[0] == 'DEFEAT'):\n",
    "                purgeChannel()\n",
    "        time.sleep(1)\n"
   ]
  },
  {
   "cell_type": "code",
   "execution_count": null,
   "metadata": {},
   "outputs": [],
   "source": [
    "def purgeChannel():\n",
    "        webhook = DiscordWebhook(url=webhookURL,content=\">>purge 99\".format(operation, channelID))\n",
    "        response = webhook.execute()"
   ]
  },
  {
   "cell_type": "code",
   "execution_count": 4,
   "metadata": {},
   "outputs": [],
   "source": [
    "def updateDiscord(msg):\n",
    "    webhook = DiscordWebhook(url=webhookURL,content=msg)\n",
    "    response = webhook.execute()"
   ]
  },
  {
   "cell_type": "code",
   "execution_count": 5,
   "metadata": {
    "tags": []
   },
   "outputs": [],
   "source": [
    "pytesseract.pytesseract.tesseract_cmd = r\"C:\\Program Files\\Tesseract-OCR\\tesseract.exe\"\n",
    "\n",
    "def processDiscussion(image: complex) -> int:\n",
    "    #1 = Not found, 2 = Discussion found, 3 = Voting ended found\n",
    "\n",
    "    discussion = {\"?\",\"impestoe\",\"who\",'whos',\"wino\",\"innoosttor?\",\"imsoster?\",\"inostor?\",\"imposter?\",\"inyoostor?\",\"iniposior?\",\"inijposior?\",\"impostor?\",\"inoster?\",\"tnrpester?\",\"tnsester?\",\"inraostor?\",\"inaoster?\",\"tnsoster?\",\"tnpester?\",'hnnsester?'}\n",
    "    discussion.update(keyword_whos_imposter)\n",
    "    voting = {\"voting\", \"results\",\"result\",\"vetting\",\"vartine\",\"votingiresults\",\"vetting)\",\"\\\\n\\\\nvatiing\",\"results\\\\n\\\\n\",\"resulis\\\\n\\\\n\",\"resuilis\\\\n\\\\n\",\"resulis\",\"resuilis\"}\n",
    "    discussion.update(keyword_voting_ended)\n",
    "    raw_output = pytesseract.image_to_string(image)\n",
    "    \n",
    "    out = set(raw_output.strip().strip('\\n').strip(\"\\\\\").strip(\"/\").lower().split(\" \"))\n",
    "\n",
    "    if debug_mode:\n",
    "        print(out)\n",
    "\n",
    "    if len(out.intersection(discussion)) != 0: #if one of the keywords for discussion time is present\n",
    "        toggleMute(\"unmute\",\"DISCUSSION [UNMUTED]\")\n",
    "\n",
    "        return 2\n",
    "\n",
    "    elif len(out.intersection(voting)) != 0: #if one of the keywords for ended voting is present\n",
    "        toggleMute(\"mute\",\"VOTING ENDED [MUTING SOON]\")\n",
    "\n",
    "        return 3\n",
    "    else:\n",
    "        return 1\n",
    "\n",
    "def processEnding(image: complex) -> bool:\n",
    "    delay = 3.5 #Delay between getting role and game starting\n",
    "\n",
    "    defeat = {\"defeat\",\"deteat\",\"netrtorat\",\"neffeat\",\"netfeat\",\"defeat\\\\n\\\\n\"}\n",
    "    defeat.update(keyword_defeat)\n",
    "    victory = {\"victory\",\"vicory\",\"viton\"}\n",
    "    victory.update(keyword_victory)\n",
    "    imposter = {\"imposter\",\"impostor\",\"tmonetor\"}\n",
    "    imposter.update(keyword_imposter)\n",
    "    crewmate = {\"crewmate\"}\n",
    "    crewmate.update(keyword_crewmate)\n",
    "    \n",
    "    raw_output = pytesseract.image_to_string(image)\n",
    "    \n",
    "    out = set(raw_output.strip().strip('\\n').strip(\"\\\\\").strip(\"/\").lower().split(\" \"))\n",
    "    \n",
    "    if debug_mode:\n",
    "        print(out)\n",
    "\n",
    "    if len(out.intersection(defeat)) != 0: #if one of the keywords for defeat is present\n",
    "        toggleMute(\"unmute\",\"DEFEAT [UNMUTED]\") #unmute everyone including the dead\n",
    "        return True\n",
    "\n",
    "    elif len(out.intersection(victory)) != 0: #if one of the keywords for victory is present\n",
    "        toggleMute(\"unmute\",\"VICTORY [UNMUTED]\") #unmute everyone including the dead\n",
    "        return True\n",
    "\n",
    "    elif len(out.intersection(crewmate)) != 0: #if one of the keywords for crewmate is present\n",
    "        time.sleep(delay + delay_start)\n",
    "        toggleMute(\"mute\",\"MATCH STARTED [MUTING SOON]\") #mute\n",
    "        return False\n",
    "\n",
    "    elif len(out.intersection(imposter)) != 0: #if one of the keywords for imposter is present\n",
    "        time.sleep(delay + delay_start)\n",
    "        toggleMute(\"mute\",\"MATCH STARTED [MUTING SOON]\") #mute\n",
    "        return False\n",
    "    else:\n",
    "        return False"
   ]
  },
  {
   "source": [
    "Grabbing Screen from monitor"
   ],
   "cell_type": "markdown",
   "metadata": {}
  },
  {
   "cell_type": "code",
   "execution_count": 6,
   "metadata": {},
   "outputs": [],
   "source": [
    "def returnFrame(settings: set, sct) -> complex:\n",
    "    #Take image of screen\n",
    "    sct_img = sct.grab(settings)\n",
    "    img = Image.frombytes('RGB', (sct_img.size.width, sct_img.size.height), sct_img.rgb)\n",
    "    frame = cv2.cvtColor(np.array(img), cv2.COLOR_RGB2BGR)\n",
    "\n",
    "    return frame"
   ]
  },
  {
   "cell_type": "code",
   "execution_count": 7,
   "metadata": {},
   "outputs": [],
   "source": [
    "def grabScreen(xResolution: int, yResolution: int):\n",
    "    keep_grabbing = False\n",
    "\n",
    "    settings = {\"top\": int(0.08 * yResolution) + adjust_y, \"left\":int(xResolution * 0.18) + adjust_x, \"width\":int(xResolution * 0.7), \"height\":int(0.25 * yResolution), \"mon\": monitor_number}\n",
    "\n",
    "    first_time = True\n",
    "\n",
    "    x_crop = int(xResolution * 0.18)\n",
    "    y_crop = int(yResolution * 0.08)\n",
    "\n",
    "    with mss() as sct:\n",
    "        while True:\n",
    "            frame = returnFrame(settings, sct)\n",
    "            \n",
    "            try:\n",
    "                #Crop image to fit only \"voting ended\" and \"whos the imposter?\"\n",
    "                cropped_frame = frame[10:(y_crop + y_extend_crop), int(x_crop/2 - x_extend_crop + 80):-int(x_crop/2 + x_extend_crop)].copy()\n",
    "            \n",
    "                if debug_mode:\n",
    "                    cv2.imshow('Test', np.array(frame)) #output screen, for testing only\n",
    "                    cv2.imshow('Test Cropped', np.array(cropped_frame)) #output screen, for testing only\n",
    "\n",
    "                    if cv2.waitKey(25) & 0xFF == ord('q'): #Press Q on debug windows to exit\n",
    "                        cv2.destroyAllWindows()\n",
    "                        break\n",
    "\n",
    "            except Exception as e:\n",
    "                print(f\"{e}\\n[*] Looks like your x_extend_crop or y_extend_crop values are way too high\")\n",
    "                exit()\n",
    "\n",
    "            if first_time:\n",
    "                print(\"[*] Screen grab ready.\\n\")\n",
    "                first_time = False\n",
    "\n",
    "            #Process image\n",
    "            found = processDiscussion(cropped_frame)\n",
    "\n",
    "            if found == 1: #If discussion or voting ends found, you dont need to process ending\n",
    "                processEnding(frame)\n",
    "            \n",
    "            elif found == 3:\n",
    "                start_time = time.time()\n",
    "\n",
    "                while True:\n",
    "                    see_if_ended = returnFrame(settings, sct)\n",
    "                    ended = processEnding(see_if_ended)\n",
    "\n",
    "                    if ended:\n",
    "                        break\n",
    "\n",
    "                    elif time.time() - start_time >= 6 + delay_voting:\n",
    "                        toggleMute(\"mute\", \"[MUTING]\")\n",
    "                        break\n",
    "            else: pass"
   ]
  },
  {
   "cell_type": "code",
   "execution_count": 8,
   "metadata": {
    "tags": []
   },
   "outputs": [
    {
     "output_type": "stream",
     "name": "stdout",
     "text": "[*] Screen grab ready.\n\nMATCH STARTED [MUTING SOON]\nResponse Success 204\nDISCUSSION [UNMUTED]\nResponse Success 204\nVOTING ENDED [MUTING SOON]\nResponse Success 204\nDISCUSSION [UNMUTED]\nResponse Success 204\nVOTING ENDED [MUTING SOON]\nResponse Success 204\nDISCUSSION [UNMUTED]\nResponse Success 204\nVOTING ENDED [MUTING SOON]\nResponse Success 204\nDISCUSSION [UNMUTED]\nResponse Success 204\nVOTING ENDED [MUTING SOON]\nResponse Success 204\nVICTORY [UNMUTED]\nResponse Success 204\n\n[*] Stopping bot...\n"
    }
   ],
   "source": [
    "try:\n",
    "    x, y = int(screen_resolution.split(\"x\")[0]), int(screen_resolution.split(\"x\")[1])\n",
    "    grabScreen(x,y)\n",
    "\n",
    "except KeyboardInterrupt:\n",
    "    print(\"\\n[*] Stopping bot...\")\n",
    "\n",
    "except Exception as e:\n",
    "    print(e)"
   ]
  },
  {
   "cell_type": "code",
   "execution_count": null,
   "metadata": {},
   "outputs": [],
   "source": []
  }
 ]
}