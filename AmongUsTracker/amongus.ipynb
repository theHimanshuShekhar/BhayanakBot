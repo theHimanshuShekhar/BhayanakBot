{
 "metadata": {
  "language_info": {
   "codemirror_mode": {
    "name": "ipython",
    "version": 3
   },
   "file_extension": ".py",
   "mimetype": "text/x-python",
   "name": "python",
   "nbconvert_exporter": "python",
   "pygments_lexer": "ipython3",
   "version": "3.8.2-final"
  },
  "orig_nbformat": 2,
  "kernelspec": {
   "name": "python_defaultSpec_1600582216536",
   "display_name": "Python 3.8.2 64-bit"
  }
 },
 "nbformat": 4,
 "nbformat_minor": 2,
 "cells": [
  {
   "source": [
    "Importing dependencies"
   ],
   "cell_type": "markdown",
   "metadata": {}
  },
  {
   "cell_type": "code",
   "execution_count": null,
   "metadata": {
    "tags": []
   },
   "outputs": [],
   "source": [
    "!pip install -r requirements.txt "
   ]
  },
  {
   "cell_type": "code",
   "execution_count": null,
   "metadata": {},
   "outputs": [],
   "source": [
    "import cv2\n",
    "import numpy as np\n",
    "import pytesseract\n",
    "import requests\n",
    "from PIL import Image\n",
    "import os\n",
    "import time\n",
    "from discord_webhook import DiscordWebhook\n",
    "import json\n",
    "from mss import mss\n",
    "from config import *"
   ]
  },
  {
   "source": [
    "Processing screens with Tesseract"
   ],
   "cell_type": "markdown",
   "metadata": {}
  },
  {
   "cell_type": "code",
   "execution_count": null,
   "metadata": {
    "tags": []
   },
   "outputs": [],
   "source": [
    "def toggleMute(operation):\n",
    "    webhook = DiscordWebhook(url=webhookURL,content=\">>au {} {}\".format(operation, channelID))\n",
    "    response = webhook.execute()\n",
    "    sleep(0.5)"
   ]
  },
  {
   "cell_type": "code",
   "execution_count": null,
   "metadata": {
    "tags": []
   },
   "outputs": [],
   "source": [
    "pytesseract.pytesseract.tesseract_cmd = r\"C:\\Program Files\\Tesseract-OCR\\tesseract.exe\"\n",
    "\n",
    "def processDiscussion(image: complex) -> int:\n",
    "    #1 = Not found, 2 = Discussion found, 3 = Voting ended found\n",
    "\n",
    "    discussion = {\"?\",\"impestoe\",\"who\",'whos',\"wino\",\"innoosttor?\",\"imsoster?\",\"inostor?\",\"imposter?\",\"inyoostor?\",\"iniposior?\",\"inijposior?\",\"impostor?\",\"inoster?\",\"tnrpester?\",\"tnsester?\",\"inraostor?\",\"inaoster?\",\"tnsoster?\",\"tnpester?\",'hnnsester?'}\n",
    "    discussion.update(keyword_whos_imposter)\n",
    "    voting = {\"voting\", \"results\",\"result\",\"vetting\",\"vartine\",\"votingiresults\",\"vetting)\",\"\\\\n\\\\nvatiing\",\"results\\\\n\\\\n\",\"resulis\\\\n\\\\n\",\"resuilis\\\\n\\\\n\",\"resulis\",\"resuilis\"}\n",
    "    discussion.update(keyword_voting_ended)\n",
    "    raw_output = pytesseract.image_to_string(image)\n",
    "    \n",
    "    out = set(raw_output.strip().strip('\\n').strip(\"\\\\\").strip(\"/\").lower().split(\" \"))\n",
    "\n",
    "    if debug_mode:\n",
    "        print(out)\n",
    "\n",
    "    if len(out.intersection(discussion)) != 0: #if one of the keywords for discussion time is present\n",
    "        print(\"DISCUSSION [UNMUTED]\")\n",
    "        toggleMute(\"unmute\")\n",
    "\n",
    "        return 2\n",
    "\n",
    "    elif len(out.intersection(voting)) != 0: #if one of the keywords for ended voting is present\n",
    "        print(\"VOTING ENDED [MUTING SOON]\")\n",
    "\n",
    "        return 3\n",
    "    else:\n",
    "        return 1\n",
    "\n",
    "def processEnding(image: complex) -> bool:\n",
    "    delay = 3.5 #Delay between getting role and game starting\n",
    "\n",
    "    defeat = {\"defeat\",\"deteat\",\"netrtorat\",\"neffeat\",\"netfeat\",\"defeat\\\\n\\\\n\"}\n",
    "    defeat.update(keyword_defeat)\n",
    "    victory = {\"victory\",\"vicory\",\"viton\"}\n",
    "    victory.update(keyword_victory)\n",
    "    imposter = {\"imposter\",\"impostor\",\"tmonetor\"}\n",
    "    imposter.update(keyword_imposter)\n",
    "    crewmate = {\"crewmate\"}\n",
    "    crewmate.update(keyword_crewmate)\n",
    "    \n",
    "    raw_output = pytesseract.image_to_string(image)\n",
    "    \n",
    "    out = set(raw_output.strip().strip('\\n').strip(\"\\\\\").strip(\"/\").lower().split(\" \"))\n",
    "    \n",
    "    if debug_mode:\n",
    "        print(out)\n",
    "\n",
    "    if len(out.intersection(defeat)) != 0: #if one of the keywords for defeat is present\n",
    "        print(\"DEFEAT [UNMUTED]\")\n",
    "        toggleMute(\"unmute\") #unmute everyone including the dead\n",
    "        return True\n",
    "\n",
    "    elif len(out.intersection(victory)) != 0: #if one of the keywords for victory is present\n",
    "        print(\"VICTORY [UNMUTED]\")\n",
    "        toggleMute(\"unmute\") #unmute everyone including the dead\n",
    "        return True\n",
    "\n",
    "    elif len(out.intersection(crewmate)) != 0: #if one of the keywords for crewmate is present\n",
    "        print(\"YOU GOT CREWMATE [MUTING SOON]\")\n",
    "\n",
    "        time.sleep(delay + delay_start)\n",
    "        toggleMute(\"mute\") #mute\n",
    "        return False\n",
    "\n",
    "    elif len(out.intersection(imposter)) != 0: #if one of the keywords for imposter is present\n",
    "        print(\"YOU GOT IMPOSTER [MUTING SOON]\")\n",
    "\n",
    "        time.sleep(delay + delay_start)\n",
    "        toggleMute(\"mute\") #mute\n",
    "        return False\n",
    "    else:\n",
    "        print(\".\")\n",
    "        return False"
   ]
  },
  {
   "source": [
    "Grabbing Screen from monitor"
   ],
   "cell_type": "markdown",
   "metadata": {}
  },
  {
   "cell_type": "code",
   "execution_count": null,
   "metadata": {},
   "outputs": [],
   "source": [
    "def returnFrame(settings: set, sct) -> complex:\n",
    "    #Take image of screen\n",
    "    sct_img = sct.grab(settings)\n",
    "    img = Image.frombytes('RGB', (sct_img.size.width, sct_img.size.height), sct_img.rgb)\n",
    "    frame = cv2.cvtColor(np.array(img), cv2.COLOR_RGB2BGR)\n",
    "\n",
    "    return frame"
   ]
  },
  {
   "cell_type": "code",
   "execution_count": null,
   "metadata": {},
   "outputs": [],
   "source": [
    "def grabScreen(xResolution: int, yResolution: int):\n",
    "    keep_grabbing = False\n",
    "\n",
    "    settings = {\"top\": int(0.08 * yResolution) + adjust_y, \"left\":int(xResolution * 0.18) + adjust_x, \"width\":int(xResolution * 0.7), \"height\":int(0.25 * yResolution), \"mon\": monitor_number}\n",
    "\n",
    "    first_time = True\n",
    "\n",
    "    x_crop = int(xResolution * 0.18)\n",
    "    y_crop = int(yResolution * 0.08)\n",
    "\n",
    "    with mss() as sct:\n",
    "        while True:\n",
    "            frame = returnFrame(settings, sct)\n",
    "            \n",
    "            try:\n",
    "                #Crop image to fit only \"voting ended\" and \"whos the imposter?\"\n",
    "                cropped_frame = frame[10:(y_crop + y_extend_crop), int(x_crop/2 - x_extend_crop + 80):-int(x_crop/2 + x_extend_crop)].copy()\n",
    "            \n",
    "                if debug_mode:\n",
    "                    cv2.imshow('Test', np.array(frame)) #output screen, for testing only\n",
    "                    cv2.imshow('Test Cropped', np.array(cropped_frame)) #output screen, for testing only\n",
    "\n",
    "                    if cv2.waitKey(25) & 0xFF == ord('q'): #Press Q on debug windows to exit\n",
    "                        cv2.destroyAllWindows()\n",
    "                        break\n",
    "\n",
    "            except Exception as e:\n",
    "                print(f\"{e}\\n[*] Looks like your x_extend_crop or y_extend_crop values are way too high\")\n",
    "                exit()\n",
    "\n",
    "            if first_time:\n",
    "                print(\"[*] Screen grab ready.\\n\")\n",
    "                first_time = False\n",
    "\n",
    "            #Process image\n",
    "            found = processDiscussion(cropped_frame)\n",
    "\n",
    "            if found == 1: #If discussion or voting ends found, you dont need to process ending\n",
    "                processEnding(frame)\n",
    "            \n",
    "            elif found == 3:\n",
    "                start_time = time.time()\n",
    "\n",
    "                while True:\n",
    "                    see_if_ended = returnFrame(settings, sct)\n",
    "                    ended = processEnding(see_if_ended)\n",
    "\n",
    "                    if ended:\n",
    "                        break\n",
    "\n",
    "                    elif time.time() - start_time >= 6 + delay_voting:\n",
    "                        grabScreen(\"mute\")\n",
    "                        break\n",
    "            else: pass"
   ]
  },
  {
   "cell_type": "code",
   "execution_count": null,
   "metadata": {
    "tags": [
     "outputPrepend"
    ]
   },
   "outputs": [],
   "source": [
    "try:\n",
    "    x, y = int(screen_resolution.split(\"x\")[0]), int(screen_resolution.split(\"x\")[1])\n",
    "    grabScreen(x,y)\n",
    "\n",
    "except KeyboardInterrupt:\n",
    "    print(\"\\n[*] Stopping bot...\")\n",
    "\n",
    "except Exception as e:\n",
    "    print(e)"
   ]
  },
  {
   "cell_type": "code",
   "execution_count": null,
   "metadata": {},
   "outputs": [],
   "source": []
  }
 ]
}